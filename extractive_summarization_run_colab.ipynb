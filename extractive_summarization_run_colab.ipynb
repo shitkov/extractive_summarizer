{
  "nbformat": 4,
  "nbformat_minor": 0,
  "metadata": {
    "colab": {
      "name": "extractive_summarization_run_colab.ipynb",
      "provenance": []
    },
    "kernelspec": {
      "name": "python3",
      "display_name": "Python 3"
    },
    "language_info": {
      "name": "python"
    }
  },
  "cells": [
    {
      "cell_type": "code",
      "metadata": {
        "id": "HbRwo6ShmoDy"
      },
      "source": [
        "%%capture\n",
        "!wget https://raw.githubusercontent.com/shitkov/extractive_summarizer/master/requirements.txt\n",
        "!wget https://raw.githubusercontent.com/shitkov/extractive_summarizer/master/api_preprocessor.py\n",
        "!wget https://raw.githubusercontent.com/shitkov/extractive_summarizer/master/api_summarizer.py\n",
        "!wget https://raw.githubusercontent.com/shitkov/extractive_summarizer/master/eng_stop_dict.txt\n",
        "!wget https://raw.githubusercontent.com/shitkov/extractive_summarizer/master/rus_stop_dict.txt\n",
        "!pip install -r /content/requirements.txt\n",
        "!wget http://download.cdn.yandex.net/mystem/mystem-3.0-linux3.1-64bit.tar.gz\n",
        "!tar -xvf mystem-3.0-linux3.1-64bit.tar.gz\n",
        "!cp mystem /bin/mystem"
      ],
      "execution_count": 1,
      "outputs": []
    },
    {
      "cell_type": "code",
      "metadata": {
        "id": "wkn1vaZcsqqU"
      },
      "source": [
        "from api_summarizer import Ext_summarizer\n",
        "from api_preprocessor import Preprocessor"
      ],
      "execution_count": 2,
      "outputs": []
    },
    {
      "cell_type": "code",
      "metadata": {
        "id": "zoTED2Nas-xx"
      },
      "source": [
        "text = 'In general there are two types of summarization, abstractive and extractive summarization. Abstractive Summarization: Abstractive methods select words based on semantic understanding, even those words did not appear in the source documents. It aims at producing important material in a new way. They interpret and examine the text using advanced natural language techniques in order to generate a new shorter text that conveys the most critical information from the original text.It can be correlated to the way human reads a text article or blog post and then summarizes in their own word.Input document → understand context → semantics → create own summary.2. Extractive Summarization: Extractive methods attempt to summarize articles by selecting a subset of words that retain the most important points.This approach weights the important part of sentences and uses the same to form the summary. Different algorithm and techniques are used to define weights for the sentences and further rank them based on importance and similarity among each other.Input document → sentences similarity → weight sentences → select sentences with higher rank.The limited study is available for abstractive summarization as it requires a deeper understanding of the text as compared to the extractive approach.Purely extractive summaries often times give better results compared to automatic abstractive summaries. This is because of the fact that abstractive summarization methods cope with problems such as semantic representation,inference and natural language generation which is relatively harder than data-driven approaches such as sentence extraction.There are many techniques available to generate extractive summarization. To keep it simple, I will be using an unsupervised learning approach to find the sentences similarity and rank them. One benefit of this will be, you don’t need to train and build a model prior start using it for your project.It’s good to understand Cosine similarity to make the best use of code you are going to see. Cosine similarity is a measure of similarity between two non-zero vectors of an inner product space that measures the cosine of the angle between them. Since we will be representing our sentences as the bunch of vectors, we can use it to find the similarity among sentences. Its measures cosine of the angle between vectors. Angle will be 0 if sentences are similar.'"
      ],
      "execution_count": 3,
      "outputs": []
    },
    {
      "cell_type": "code",
      "metadata": {
        "id": "SxNey4zGtCAa"
      },
      "source": [
        "prep = Preprocessor()\n",
        "summ = Ext_summarizer()"
      ],
      "execution_count": 4,
      "outputs": []
    },
    {
      "cell_type": "code",
      "metadata": {
        "id": "VEAqM3iitE8k"
      },
      "source": [
        "sentences = prep.clean_text(text)"
      ],
      "execution_count": 5,
      "outputs": []
    },
    {
      "cell_type": "code",
      "metadata": {
        "id": "Rdx6kg_utGgO"
      },
      "source": [
        "path = ''\n",
        "sentence_similarity_martix = summ.build_similarity_matrix(prep.normalize(sentences, path))"
      ],
      "execution_count": 6,
      "outputs": []
    },
    {
      "cell_type": "code",
      "metadata": {
        "id": "WDZTe0f-s4Bc"
      },
      "source": [
        "summary = summ.summarize(sentences, sentence_similarity_martix)"
      ],
      "execution_count": 7,
      "outputs": []
    },
    {
      "cell_type": "code",
      "metadata": {
        "colab": {
          "base_uri": "https://localhost:8080/"
        },
        "id": "w5Spt8YOwPDR",
        "outputId": "ab38dacb-204f-472a-c629-9e8206d50cfe"
      },
      "source": [
        "print(summary)"
      ],
      "execution_count": 8,
      "outputs": [
        {
          "output_type": "stream",
          "text": [
            "2. Angle will be 0 if sentences are similar. This approach weights the important part of sentences and uses the same to form the summary.\n"
          ],
          "name": "stdout"
        }
      ]
    }
  ]
}